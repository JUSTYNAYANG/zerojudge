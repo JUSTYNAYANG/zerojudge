{
  "nbformat": 4,
  "nbformat_minor": 0,
  "metadata": {
    "colab": {
      "provenance": [],
      "authorship_tag": "ABX9TyMdFU8RbHjzlAzFqGkRaGCJ",
      "include_colab_link": true
    },
    "kernelspec": {
      "name": "python3",
      "display_name": "Python 3"
    },
    "language_info": {
      "name": "python"
    }
  },
  "cells": [
    {
      "cell_type": "markdown",
      "metadata": {
        "id": "view-in-github",
        "colab_type": "text"
      },
      "source": [
        "<a href=\"https://colab.research.google.com/github/JUSTYNAYANG/zerojudge/blob/main/a040.ipynb\" target=\"_parent\"><img src=\"https://colab.research.google.com/assets/colab-badge.svg\" alt=\"Open In Colab\"/></a>"
      ]
    },
    {
      "cell_type": "code",
      "execution_count": 5,
      "metadata": {
        "colab": {
          "base_uri": "https://localhost:8080/"
        },
        "id": "-p5z9_EH8Vip",
        "outputId": "e6c36681-380c-43b8-d2d4-7643c8e02d6f"
      },
      "outputs": [
        {
          "output_type": "stream",
          "name": "stdout",
          "text": [
            "1634\n",
            "true\n"
          ]
        }
      ],
      "source": [
        "x = input()\n",
        "p = len(x)\n",
        "total = 0\n",
        "for i in x:\n",
        "  total += int(i) ** p\n",
        "\n",
        "if total == int(x):\n",
        "  print(\"true\")\n",
        "else:\n",
        "  print(\"false\")"
      ]
    },
    {
      "cell_type": "code",
      "source": [
        "for i in range(2):\n",
        "  str(i)\n",
        "  print(i)"
      ],
      "metadata": {
        "colab": {
          "base_uri": "https://localhost:8080/"
        },
        "id": "LfzJ8aJn-oVt",
        "outputId": "e429588d-a923-4fa2-ff22-98292b8aded6"
      },
      "execution_count": 7,
      "outputs": [
        {
          "output_type": "stream",
          "name": "stdout",
          "text": [
            "0\n",
            "1\n"
          ]
        }
      ]
    },
    {
      "cell_type": "code",
      "source": [
        "\n",
        "b = []\n",
        "x = input()\n",
        "x = x.split(\" \")\n",
        "\n",
        "for i in range(int(x[0]), int(x[1])):\n",
        "  total = 0\n",
        "  a = str(i)\n",
        "  p = len(a)\n",
        "  for j in a:\n",
        "    total += int(j) ** p\n",
        "  if total == int(i):\n",
        "    b.append(str(i))\n",
        "\n",
        "if b == True:\n",
        "  print(\" \".join(b))\n",
        "else:\n",
        "  print()"
      ],
      "metadata": {
        "colab": {
          "base_uri": "https://localhost:8080/"
        },
        "id": "FwX_bURT-Q6U",
        "outputId": "cda24ff8-6317-495d-d875-7b8b407502fc"
      },
      "execution_count": 16,
      "outputs": [
        {
          "output_type": "stream",
          "name": "stdout",
          "text": [
            "10 99\n",
            "none\n"
          ]
        }
      ]
    },
    {
      "cell_type": "code",
      "source": [
        "a = []\n",
        "if a:\n",
        "  print(\"yes\")\n",
        "else:\n",
        "  print(\"no\")"
      ],
      "metadata": {
        "colab": {
          "base_uri": "https://localhost:8080/"
        },
        "id": "VPHU8ycaBAKm",
        "outputId": "19a92e5b-55dd-4b8e-ea1d-2e4ece308538"
      },
      "execution_count": 26,
      "outputs": [
        {
          "output_type": "stream",
          "name": "stdout",
          "text": [
            "no\n"
          ]
        }
      ]
    },
    {
      "cell_type": "code",
      "source": [
        "a = [\"1\"]\n",
        "if a:\n",
        "  print(\"yes\")\n",
        "else:\n",
        "  print(\"no\")"
      ],
      "metadata": {
        "colab": {
          "base_uri": "https://localhost:8080/"
        },
        "id": "xUzBS_FyBhoP",
        "outputId": "124c4d8a-9cc9-42ff-d6f6-e9ab23a02e73"
      },
      "execution_count": 27,
      "outputs": [
        {
          "output_type": "stream",
          "name": "stdout",
          "text": [
            "yes\n"
          ]
        }
      ]
    },
    {
      "cell_type": "code",
      "source": [
        "b = []\n",
        "x = input()\n",
        "x = x.split(\" \")\n",
        "\n",
        "for i in range(int(x[0]), int(x[1])):\n",
        "  total = 0\n",
        "  a = str(i)\n",
        "  p = len(a)\n",
        "  for j in a:\n",
        "    total += int(j) ** p\n",
        "  if total == int(i):\n",
        "    b.append(str(i))\n",
        "\n",
        "if b:\n",
        "  print(\" \".join(b))\n",
        "else:\n",
        "  print(\"none\")"
      ],
      "metadata": {
        "colab": {
          "base_uri": "https://localhost:8080/"
        },
        "id": "TmpaVBczA7SA",
        "outputId": "01710364-869c-4d4d-f973-0a9818fa8f61"
      },
      "execution_count": 24,
      "outputs": [
        {
          "output_type": "stream",
          "name": "stdout",
          "text": [
            "10 99\n",
            "none\n"
          ]
        }
      ]
    }
  ]
}
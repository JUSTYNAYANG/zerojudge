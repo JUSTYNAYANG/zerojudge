{
  "nbformat": 4,
  "nbformat_minor": 0,
  "metadata": {
    "colab": {
      "provenance": [],
      "authorship_tag": "ABX9TyOY9lNtr6IA9O35peT6Pjlf",
      "include_colab_link": true
    },
    "kernelspec": {
      "name": "python3",
      "display_name": "Python 3"
    },
    "language_info": {
      "name": "python"
    }
  },
  "cells": [
    {
      "cell_type": "markdown",
      "metadata": {
        "id": "view-in-github",
        "colab_type": "text"
      },
      "source": [
        "<a href=\"https://colab.research.google.com/github/JUSTYNAYANG/zerojudge/blob/main/a053.ipynb\" target=\"_parent\"><img src=\"https://colab.research.google.com/assets/colab-badge.svg\" alt=\"Open In Colab\"/></a>"
      ]
    },
    {
      "cell_type": "code",
      "execution_count": 8,
      "metadata": {
        "colab": {
          "base_uri": "https://localhost:8080/"
        },
        "id": "oJCL7Vo_B977",
        "outputId": "8b22b8a7-34dc-4d5f-b19a-db6f48d7e60d"
      },
      "outputs": [
        {
          "output_type": "stream",
          "name": "stdout",
          "text": [
            "40\n",
            "100\n"
          ]
        }
      ],
      "source": [
        "x = int(input())\n",
        "sum = 0\n",
        "if x <= 10:\n",
        "  for i in range(x):\n",
        "    sum += 6\n",
        "elif x <= 20:\n",
        "  sum += 60\n",
        "  for i in range(x-10):\n",
        "    sum += 2\n",
        "elif x <= 40:\n",
        "  sum += 80\n",
        "  for i in range(x-20):\n",
        "    sum += 1\n",
        "else:\n",
        "  sum += 100\n",
        "\n",
        "print(sum)"
      ]
    }
  ]
}
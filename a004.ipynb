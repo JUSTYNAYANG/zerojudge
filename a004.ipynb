{
  "nbformat": 4,
  "nbformat_minor": 0,
  "metadata": {
    "colab": {
      "provenance": [],
      "authorship_tag": "ABX9TyPDG5pX6uJ3SsUT0OevIWH1",
      "include_colab_link": true
    },
    "kernelspec": {
      "name": "python3",
      "display_name": "Python 3"
    },
    "language_info": {
      "name": "python"
    }
  },
  "cells": [
    {
      "cell_type": "markdown",
      "metadata": {
        "id": "view-in-github",
        "colab_type": "text"
      },
      "source": [
        "<a href=\"https://colab.research.google.com/github/JUSTYNAYANG/zerojudge/blob/main/a004.ipynb\" target=\"_parent\"><img src=\"https://colab.research.google.com/assets/colab-badge.svg\" alt=\"Open In Colab\"/></a>"
      ]
    },
    {
      "cell_type": "markdown",
      "source": [
        "西元年被4整除且不被100整除，或被400整除者即為閏年"
      ],
      "metadata": {
        "id": "P8xR1gDGoBUt"
      }
    },
    {
      "cell_type": "code",
      "source": [
        "9%4"
      ],
      "metadata": {
        "colab": {
          "base_uri": "https://localhost:8080/"
        },
        "id": "yDTo4oDDoK2-",
        "outputId": "b4dc2955-4e7d-40f4-c5d9-7d17d6ae0511"
      },
      "execution_count": 1,
      "outputs": [
        {
          "output_type": "execute_result",
          "data": {
            "text/plain": [
              "1"
            ]
          },
          "metadata": {},
          "execution_count": 1
        }
      ]
    },
    {
      "cell_type": "code",
      "execution_count": 11,
      "metadata": {
        "colab": {
          "base_uri": "https://localhost:8080/"
        },
        "id": "gyN0099hn0tD",
        "outputId": "4a7b2593-c6e6-4595-f2e3-6f3ddddbe906"
      },
      "outputs": [
        {
          "output_type": "stream",
          "name": "stdout",
          "text": [
            "1980\n",
            "閏年\n"
          ]
        }
      ],
      "source": [
        "a = input()\n",
        "a = a.split()\n",
        "\n",
        "for i in a:\n",
        "  b = int(i)\n",
        "  if b%4 == 0:\n",
        "    if b%100 != 0 and b%400 != 0:\n",
        "      print(\"閏年\")\n",
        "  else:\n",
        "    print(\"平年\")"
      ]
    },
    {
      "cell_type": "code",
      "source": [
        "while True:\n",
        "  try:\n",
        "    a = input()\n",
        "\n",
        "    b = int(a)\n",
        "    if b%4 == 0:\n",
        "      if b%100 != 0 and b%400 != 0:\n",
        "        print(\"閏年\")\n",
        "    else:\n",
        "      print(\"平年\")\n",
        "  except:\n",
        "    break"
      ],
      "metadata": {
        "colab": {
          "base_uri": "https://localhost:8080/"
        },
        "id": "LktUMPhxpI8Z",
        "outputId": "102fe119-dfb6-4f57-deae-2e4ea743f722"
      },
      "execution_count": 14,
      "outputs": [
        {
          "name": "stdout",
          "output_type": "stream",
          "text": [
            "1997\n",
            "平年\n",
            "1989\n",
            "平年\n",
            "1980\n",
            "閏年\n",
            "\n"
          ]
        }
      ]
    }
  ]
}
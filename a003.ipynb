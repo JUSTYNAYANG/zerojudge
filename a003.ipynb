{
  "nbformat": 4,
  "nbformat_minor": 0,
  "metadata": {
    "colab": {
      "provenance": [],
      "authorship_tag": "ABX9TyPFvf0rGKTnDOE62S1eOuYp",
      "include_colab_link": true
    },
    "kernelspec": {
      "name": "python3",
      "display_name": "Python 3"
    },
    "language_info": {
      "name": "python"
    }
  },
  "cells": [
    {
      "cell_type": "markdown",
      "metadata": {
        "id": "view-in-github",
        "colab_type": "text"
      },
      "source": [
        "<a href=\"https://colab.research.google.com/github/JUSTYNAYANG/zerojudge/blob/main/a003.ipynb\" target=\"_parent\"><img src=\"https://colab.research.google.com/assets/colab-badge.svg\" alt=\"Open In Colab\"/></a>"
      ]
    },
    {
      "cell_type": "markdown",
      "source": [
        "M=月\n",
        "\n",
        "D=日\n",
        "\n",
        "S=(M*2+D)%3"
      ],
      "metadata": {
        "id": "mKc0-DAwm4ca"
      }
    },
    {
      "cell_type": "code",
      "source": [
        "a = input()\n",
        "a = a.split(\" \")\n",
        "M = int(a[0])\n",
        "D = int(a[1])\n",
        "S = (M*2+D)%3\n",
        "\n",
        "if S == 0:\n",
        "  print(\"普通\")\n",
        "elif S == 1:\n",
        "  print(\"吉\")\n",
        "else:\n",
        "  print(\"大吉\")"
      ],
      "metadata": {
        "colab": {
          "base_uri": "https://localhost:8080/"
        },
        "id": "X_1iIKmmnlsR",
        "outputId": "efc046b3-c60b-4af7-daa5-fb3899a01266"
      },
      "execution_count": 3,
      "outputs": [
        {
          "output_type": "stream",
          "name": "stdout",
          "text": [
            "1 1\n",
            "普通\n"
          ]
        }
      ]
    }
  ]
}
{
  "nbformat": 4,
  "nbformat_minor": 0,
  "metadata": {
    "colab": {
      "provenance": [],
      "authorship_tag": "ABX9TyO5/fYCh4Ovgg82u2rL87kJ",
      "include_colab_link": true
    },
    "kernelspec": {
      "name": "python3",
      "display_name": "Python 3"
    },
    "language_info": {
      "name": "python"
    }
  },
  "cells": [
    {
      "cell_type": "markdown",
      "metadata": {
        "id": "view-in-github",
        "colab_type": "text"
      },
      "source": [
        "<a href=\"https://colab.research.google.com/github/JUSTYNAYANG/zerojudge/blob/main/a034.ipynb\" target=\"_parent\"><img src=\"https://colab.research.google.com/assets/colab-badge.svg\" alt=\"Open In Colab\"/></a>"
      ]
    },
    {
      "cell_type": "code",
      "execution_count": 5,
      "metadata": {
        "colab": {
          "base_uri": "https://localhost:8080/"
        },
        "id": "1W5bVOQ96LQI",
        "outputId": "4e717edc-6198-459e-948d-e9dc679f7aeb"
      },
      "outputs": [
        {
          "output_type": "stream",
          "name": "stdout",
          "text": [
            "6\n",
            "110\n"
          ]
        }
      ],
      "source": [
        "x = input()\n",
        "x = bin(int(x))\n",
        "x = x.replace(\"0b\", \"\")\n",
        "print(x)"
      ]
    },
    {
      "cell_type": "code",
      "source": [
        "while True:\n",
        "  try:\n",
        "    x = input()\n",
        "    x = bin(int(x))\n",
        "    x = x.replace(\"0b\", \"\")\n",
        "    print(x)\n",
        "  except:\n",
        "    break"
      ],
      "metadata": {
        "colab": {
          "base_uri": "https://localhost:8080/"
        },
        "id": "7bQmfJ0z7tko",
        "outputId": "9a22a3de-efea-46a5-d0c4-5b41d78cce31"
      },
      "execution_count": 7,
      "outputs": [
        {
          "name": "stdout",
          "output_type": "stream",
          "text": [
            "3\n",
            "11\n",
            "6\n",
            "110\n",
            "\n"
          ]
        }
      ]
    }
  ]
}
{
  "nbformat": 4,
  "nbformat_minor": 0,
  "metadata": {
    "colab": {
      "provenance": [],
      "authorship_tag": "ABX9TyPhV80HQWNy8AFp+t/3Udzw",
      "include_colab_link": true
    },
    "kernelspec": {
      "name": "python3",
      "display_name": "Python 3"
    },
    "language_info": {
      "name": "python"
    }
  },
  "cells": [
    {
      "cell_type": "markdown",
      "metadata": {
        "id": "view-in-github",
        "colab_type": "text"
      },
      "source": [
        "<a href=\"https://colab.research.google.com/github/JUSTYNAYANG/zerojudge/blob/main/a006.ipynb\" target=\"_parent\"><img src=\"https://colab.research.google.com/assets/colab-badge.svg\" alt=\"Open In Colab\"/></a>"
      ]
    },
    {
      "cell_type": "code",
      "execution_count": 1,
      "metadata": {
        "colab": {
          "base_uri": "https://localhost:8080/"
        },
        "id": "LCvPLhCAzfRM",
        "outputId": "57494672-4a95-4a35-f78b-7c2e2f2b0acc"
      },
      "outputs": [
        {
          "output_type": "stream",
          "name": "stdout",
          "text": [
            "1 2 3\n",
            "['1', '2', '3']\n"
          ]
        }
      ],
      "source": [
        "a = input()\n",
        "a = a.split()\n",
        "print(a)"
      ]
    },
    {
      "cell_type": "code",
      "source": [
        "a = [\"hello\", \"world\"]\n",
        "print(\" \".join(a))\n"
      ],
      "metadata": {
        "colab": {
          "base_uri": "https://localhost:8080/"
        },
        "id": "ONCoe4J20W6b",
        "outputId": "d853b261-3f99-4f80-e53e-644bf324aa8b"
      },
      "execution_count": 4,
      "outputs": [
        {
          "output_type": "stream",
          "name": "stdout",
          "text": [
            "hello world\n"
          ]
        }
      ]
    },
    {
      "cell_type": "code",
      "source": [
        "i = input()\n",
        "ii = i.split()\n",
        "\n",
        "a = int(ii[0])\n",
        "b = int(ii[1])\n",
        "c = int(ii[2])\n",
        "answer = []\n",
        "\n",
        "if b**2 - 4*a*c == 0:\n",
        "  answer.append(\"Two same roots\")\n",
        "  equ = (-b + ((b ** 2 - 4 * a * c) ** 0.5))/ 2 * a\n",
        "  answer.append(f\"x={str(int(equ))}\")\n",
        "  print(\" \".join(answer))\n",
        "elif b**2 - 4*a*c > 0:\n",
        "  answer.append(\"Two different roots\")\n",
        "  equ1 = (-b + ((b ** 2 - 4 * a * c) ** 0.5))/ 2 * a\n",
        "  equ2 = (-b - ((b ** 2 - 4 * a * c) ** 0.5)) / 2 * a\n",
        "  answer.append(f\"x1={str(int(equ1))} , x2={str(int(equ2))}\")\n",
        "  print(\" \".join(answer))\n",
        "else:\n",
        "  print(\"No real root\")"
      ],
      "metadata": {
        "colab": {
          "base_uri": "https://localhost:8080/"
        },
        "id": "mQs_TB9p4LPt",
        "outputId": "7fa66603-09a4-4561-cf87-469fff08618d"
      },
      "execution_count": 20,
      "outputs": [
        {
          "output_type": "stream",
          "name": "stdout",
          "text": [
            "1 1 1\n",
            "No real root\n"
          ]
        }
      ]
    },
    {
      "cell_type": "code",
      "source": [
        "while True:\n",
        "  try: \n",
        "    i = input()\n",
        "    ii = i.split()\n",
        "\n",
        "    a = int(ii[0])\n",
        "    b = int(ii[1])\n",
        "    c = int(ii[2])\n",
        "    answer = []\n",
        "\n",
        "    if b**2 - 4*a*c == 0:\n",
        "      answer.append(\"Two same roots\")\n",
        "      equ = (-b + ((b ** 2 - 4 * a * c) ** 0.5))/ 2 * a\n",
        "      answer.append(f\"x={str(int(equ))}\")\n",
        "      print(\" \".join(answer))\n",
        "    elif b**2 - 4*a*c > 0:\n",
        "      answer.append(\"Two different roots\")\n",
        "      equ1 = (-b + ((b ** 2 - 4 * a * c) ** 0.5))/ 2 * a\n",
        "      equ2 = (-b - ((b ** 2 - 4 * a * c) ** 0.5)) / 2 * a\n",
        "      answer.append(f\"x1={str(int(equ1))} , x2={str(int(equ2))}\")\n",
        "      print(\" \".join(answer))\n",
        "    else:\n",
        "      print(\"No real root\")\n",
        "      \n",
        "  except:\n",
        "    break"
      ],
      "metadata": {
        "colab": {
          "base_uri": "https://localhost:8080/"
        },
        "id": "MM6o5Bluzqgw",
        "outputId": "a50b54e1-d0bf-421d-d4a3-1552a379d1a2"
      },
      "execution_count": 19,
      "outputs": [
        {
          "name": "stdout",
          "output_type": "stream",
          "text": [
            "1 3 -10\n",
            "Two different roots x1=2 , x2=-5\n",
            "1 0 0 \n",
            "Two same roots x=0\n",
            "1 1 1\n",
            "No real root\n",
            "\n"
          ]
        }
      ]
    },
    {
      "cell_type": "code",
      "source": [],
      "metadata": {
        "id": "QmAkA6mo5QHv"
      },
      "execution_count": null,
      "outputs": []
    }
  ]
}
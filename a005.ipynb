{
  "nbformat": 4,
  "nbformat_minor": 0,
  "metadata": {
    "colab": {
      "provenance": [],
      "authorship_tag": "ABX9TyNTGJ3u6gfoMm6HT8ocyyLO",
      "include_colab_link": true
    },
    "kernelspec": {
      "name": "python3",
      "display_name": "Python 3"
    },
    "language_info": {
      "name": "python"
    }
  },
  "cells": [
    {
      "cell_type": "markdown",
      "metadata": {
        "id": "view-in-github",
        "colab_type": "text"
      },
      "source": [
        "<a href=\"https://colab.research.google.com/github/JUSTYNAYANG/zerojudge/blob/main/a005.ipynb\" target=\"_parent\"><img src=\"https://colab.research.google.com/assets/colab-badge.svg\" alt=\"Open In Colab\"/></a>"
      ]
    },
    {
      "cell_type": "code",
      "execution_count": 2,
      "metadata": {
        "colab": {
          "base_uri": "https://localhost:8080/"
        },
        "id": "skIZ6NuysH5V",
        "outputId": "a1aa4c11-cb90-4d58-a345-35711f8dd983"
      },
      "outputs": [
        {
          "output_type": "stream",
          "name": "stdout",
          "text": [
            "3\n",
            "0\n",
            "1\n",
            "2\n"
          ]
        }
      ],
      "source": [
        "a = input()\n",
        "\n",
        "for i in range(int(a)):\n",
        "  print(i)"
      ]
    },
    {
      "cell_type": "code",
      "source": [
        "a = input()\n",
        "\n",
        "for i in range(int(a)):\n",
        "  b = input()\n",
        "  b = b.split(\" \")\n",
        "  if int(b[1]) - int(b[0]) == int(b[3]) - int(b[2]):\n",
        "    print(f\"{b[0]} {b[1]} {b[2]} {b[3]} {int(b[3])+(int(b[1]) - int(b[0]))}\")\n",
        "  else:\n",
        "    print(f\"{b[0]} {b[1]} {b[2]} {b[3]} {int(b[3])*(int(b[1]) // int(b[0]))}\")\n",
        ""
      ],
      "metadata": {
        "colab": {
          "base_uri": "https://localhost:8080/"
        },
        "id": "qmwBOtOVs43V",
        "outputId": "e4546e7b-174e-4982-a36e-d993894fbe74"
      },
      "execution_count": 11,
      "outputs": [
        {
          "output_type": "stream",
          "name": "stdout",
          "text": [
            "1\n",
            "1 2 4 8\n",
            "1 2 4 8 16\n"
          ]
        }
      ]
    }
  ]
}
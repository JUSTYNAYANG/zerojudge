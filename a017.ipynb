{
  "nbformat": 4,
  "nbformat_minor": 0,
  "metadata": {
    "colab": {
      "provenance": [],
      "authorship_tag": "ABX9TyMxnIHS7jy/xSH5Akbb5rca",
      "include_colab_link": true
    },
    "kernelspec": {
      "name": "python3",
      "display_name": "Python 3"
    },
    "language_info": {
      "name": "python"
    }
  },
  "cells": [
    {
      "cell_type": "markdown",
      "metadata": {
        "id": "view-in-github",
        "colab_type": "text"
      },
      "source": [
        "<a href=\"https://colab.research.google.com/github/JUSTYNAYANG/zerojudge/blob/main/a017.ipynb\" target=\"_parent\"><img src=\"https://colab.research.google.com/assets/colab-badge.svg\" alt=\"Open In Colab\"/></a>"
      ]
    },
    {
      "cell_type": "code",
      "execution_count": null,
      "metadata": {
        "colab": {
          "base_uri": "https://localhost:8080/"
        },
        "id": "v5s3urphw-mJ",
        "outputId": "fe3cd7c0-efb8-4bb8-fa95-ee2ab2a70541"
      },
      "outputs": [
        {
          "name": "stdout",
          "output_type": "stream",
          "text": [
            "2 * (3+4) * 5\n"
          ]
        },
        {
          "output_type": "execute_result",
          "data": {
            "text/plain": [
              "70"
            ]
          },
          "metadata": {},
          "execution_count": 16
        }
      ],
      "source": [
        "a = input()\n",
        "a.replace(\"/\", \"//\")\n",
        "\n",
        "eval(a)\n",
        "#eval() only for string"
      ]
    },
    {
      "cell_type": "code",
      "source": [
        "a = input()\n",
        "a.replace(\"/\", \"//\")\n",
        "\n",
        "print(eval(a))\n",
        "#eval() only for string"
      ],
      "metadata": {
        "colab": {
          "base_uri": "https://localhost:8080/"
        },
        "id": "fAka3O1I2mMM",
        "outputId": "5c7c45df-1c94-497d-c52e-d712614f0b66"
      },
      "execution_count": null,
      "outputs": [
        {
          "output_type": "stream",
          "name": "stdout",
          "text": [
            "2 + 3\n",
            "5\n"
          ]
        }
      ]
    },
    {
      "cell_type": "code",
      "source": [
        "while True:\n",
        "  try:\n",
        "    a = input()\n",
        "    a.replace(\"/\", \"//\")\n",
        "    print(eval(a))\n",
        "  except:\n",
        "    break"
      ],
      "metadata": {
        "colab": {
          "base_uri": "https://localhost:8080/"
        },
        "id": "9Gd2Dxhn4OLm",
        "outputId": "9a04f75e-ffd7-4e83-cf92-509995ff8381"
      },
      "execution_count": null,
      "outputs": [
        {
          "name": "stdout",
          "output_type": "stream",
          "text": [
            "2 + 3\n",
            "5\n",
            "4 + 5 * 2\n",
            "14\n",
            "\n"
          ]
        }
      ]
    },
    {
      "cell_type": "code",
      "source": [
        "while True:\n",
        "  try:\n",
        "    a = input()\n",
        "    a = a.replace(\"/\", \"//\")\n",
        "    print(eval(a))\n",
        "  except:\n",
        "    break"
      ],
      "metadata": {
        "colab": {
          "base_uri": "https://localhost:8080/"
        },
        "id": "yaxgJnGx3D6h",
        "outputId": "1cd1a975-553e-4310-9523-cf361d1d15de"
      },
      "execution_count": null,
      "outputs": [
        {
          "name": "stdout",
          "output_type": "stream",
          "text": [
            "2 + 4 / 2\n",
            "4\n",
            "\n"
          ]
        }
      ]
    }
  ]
}
{
  "nbformat": 4,
  "nbformat_minor": 0,
  "metadata": {
    "colab": {
      "provenance": [],
      "authorship_tag": "ABX9TyOSMvNotyQjUQCDbsh+VvZD",
      "include_colab_link": true
    },
    "kernelspec": {
      "name": "python3",
      "display_name": "Python 3"
    },
    "language_info": {
      "name": "python"
    }
  },
  "cells": [
    {
      "cell_type": "markdown",
      "metadata": {
        "id": "view-in-github",
        "colab_type": "text"
      },
      "source": [
        "<a href=\"https://colab.research.google.com/github/JUSTYNAYANG/zerojudge/blob/main/a021.ipynb\" target=\"_parent\"><img src=\"https://colab.research.google.com/assets/colab-badge.svg\" alt=\"Open In Colab\"/></a>"
      ]
    },
    {
      "cell_type": "markdown",
      "source": [
        "#a021"
      ],
      "metadata": {
        "id": "PSXzvzpZzvvV"
      }
    },
    {
      "cell_type": "code",
      "execution_count": 2,
      "metadata": {
        "colab": {
          "base_uri": "https://localhost:8080/"
        },
        "id": "vguGeqyvyq67",
        "outputId": "f70b87f2-06f0-4430-9cf1-f6c92a260d06"
      },
      "outputs": [
        {
          "output_type": "stream",
          "name": "stdout",
          "text": [
            "2222222222222222222222222 / 1111111111111111111111111\n",
            "2\n"
          ]
        }
      ],
      "source": [
        "a = input()\n",
        "a = a.split(\" \")\n",
        "if a[1] == \"+\":\n",
        "  print(int(a[0])+int(a[2]))\n",
        "elif a[1] == \"-\":\n",
        "  print(int(a[0])-int(a[2]))\n",
        "elif a[1] == \"*\":\n",
        "  print(int(a[0])*int(a[2]))\n",
        "elif a[1] == \"/\":\n",
        "  print(int(a[0])//int(a[2]))"
      ]
    }
  ]
}